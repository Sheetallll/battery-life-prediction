{
  "cells": [
    {
      "cell_type": "code",
      "execution_count": 1,
      "metadata": {
        "colab": {
          "base_uri": "https://localhost:8080/"
        },
        "id": "rFrnL9D5W5uF",
        "outputId": "59da571f-6f7d-4058-d3b6-b6c1fc666816"
      },
      "outputs": [
        {
          "name": "stdout",
          "output_type": "stream",
          "text": [
            "2.2.3\n",
            "2.19.0\n"
          ]
        },
        {
          "ename": "ModuleNotFoundError",
          "evalue": "No module named 'sklearn'",
          "output_type": "error",
          "traceback": [
            "\u001b[31m---------------------------------------------------------------------------\u001b[39m",
            "\u001b[31mModuleNotFoundError\u001b[39m                       Traceback (most recent call last)",
            "\u001b[36mCell\u001b[39m\u001b[36m \u001b[39m\u001b[32mIn[1]\u001b[39m\u001b[32m, line 11\u001b[39m\n\u001b[32m      8\u001b[39m \u001b[38;5;28;01mfrom\u001b[39;00m\u001b[38;5;250m \u001b[39m\u001b[34;01mtensorflow\u001b[39;00m\u001b[34;01m.\u001b[39;00m\u001b[34;01mkeras\u001b[39;00m\u001b[34;01m.\u001b[39;00m\u001b[34;01mlayers\u001b[39;00m\u001b[38;5;250m \u001b[39m\u001b[38;5;28;01mimport\u001b[39;00m Dense, Dropout \u001b[38;5;66;03m# type: ignore\u001b[39;00m\n\u001b[32m     10\u001b[39m \u001b[38;5;66;03m# sklearn\u001b[39;00m\n\u001b[32m---> \u001b[39m\u001b[32m11\u001b[39m \u001b[38;5;28;01mfrom\u001b[39;00m\u001b[38;5;250m \u001b[39m\u001b[34;01msklearn\u001b[39;00m\u001b[34;01m.\u001b[39;00m\u001b[34;01mmodel_selection\u001b[39;00m\u001b[38;5;250m \u001b[39m\u001b[38;5;28;01mimport\u001b[39;00m train_test_split \u001b[38;5;66;03m# type: ignore\u001b[39;00m\n\u001b[32m     12\u001b[39m \u001b[38;5;28;01mfrom\u001b[39;00m\u001b[38;5;250m \u001b[39m\u001b[34;01msklearn\u001b[39;00m\u001b[34;01m.\u001b[39;00m\u001b[34;01mpreprocessing\u001b[39;00m\u001b[38;5;250m \u001b[39m\u001b[38;5;28;01mimport\u001b[39;00m MinMaxScaler,LabelEncoder \u001b[38;5;66;03m# type: ignore\u001b[39;00m\n",
            "\u001b[31mModuleNotFoundError\u001b[39m: No module named 'sklearn'"
          ]
        }
      ],
      "source": [
        "\n",
        "import pandas as pd\n",
        "\n",
        "print(pd.__version__)\n",
        "import tensorflow as tf\n",
        "print(tf.__version__)\n",
        "\n",
        "from tensorflow.keras.models import Sequential # type: ignore\n",
        "from tensorflow.keras.layers import Dense, Dropout # type: ignore\n",
        "\n",
        "# sklearn\n",
        "from sklearn.model_selection import train_test_split # type: ignore\n",
        "from sklearn.preprocessing import MinMaxScaler,LabelEncoder # type: ignore\n"
      ]
    },
    {
      "cell_type": "markdown",
      "metadata": {
        "id": "Oi7uDCkkW5uH"
      },
      "source": []
    },
    {
      "cell_type": "code",
      "execution_count": null,
      "metadata": {
        "colab": {
          "base_uri": "https://localhost:8080/",
          "height": 423
        },
        "id": "LgEEP6rlW5uH",
        "outputId": "8b5a8b39-e025-4d7d-f4f1-abdcdd064ac7"
      },
      "outputs": [
        {
          "data": {
            "text/html": [
              "<div>\n",
              "<style scoped>\n",
              "    .dataframe tbody tr th:only-of-type {\n",
              "        vertical-align: middle;\n",
              "    }\n",
              "\n",
              "    .dataframe tbody tr th {\n",
              "        vertical-align: top;\n",
              "    }\n",
              "\n",
              "    .dataframe thead th {\n",
              "        text-align: right;\n",
              "    }\n",
              "</style>\n",
              "<table border=\"1\" class=\"dataframe\">\n",
              "  <thead>\n",
              "    <tr style=\"text-align: right;\">\n",
              "      <th></th>\n",
              "      <th>type</th>\n",
              "      <th>start_time</th>\n",
              "      <th>ambient_temperature</th>\n",
              "      <th>battery_id</th>\n",
              "      <th>test_id</th>\n",
              "      <th>uid</th>\n",
              "      <th>filename</th>\n",
              "      <th>Capacity</th>\n",
              "      <th>Re</th>\n",
              "      <th>Rct</th>\n",
              "    </tr>\n",
              "  </thead>\n",
              "  <tbody>\n",
              "    <tr>\n",
              "      <th>0</th>\n",
              "      <td>discharge</td>\n",
              "      <td>[2010.       7.      21.      15.       0.    ...</td>\n",
              "      <td>4</td>\n",
              "      <td>B0047</td>\n",
              "      <td>0</td>\n",
              "      <td>1</td>\n",
              "      <td>00001.csv</td>\n",
              "      <td>1.6743047446975208</td>\n",
              "      <td>NaN</td>\n",
              "      <td>NaN</td>\n",
              "    </tr>\n",
              "    <tr>\n",
              "      <th>1</th>\n",
              "      <td>impedance</td>\n",
              "      <td>[2010.       7.      21.      16.      53.    ...</td>\n",
              "      <td>24</td>\n",
              "      <td>B0047</td>\n",
              "      <td>1</td>\n",
              "      <td>2</td>\n",
              "      <td>00002.csv</td>\n",
              "      <td>NaN</td>\n",
              "      <td>0.05605783343888099</td>\n",
              "      <td>0.20097016584458333</td>\n",
              "    </tr>\n",
              "    <tr>\n",
              "      <th>2</th>\n",
              "      <td>charge</td>\n",
              "      <td>[2010.       7.      21.      17.      25.    ...</td>\n",
              "      <td>4</td>\n",
              "      <td>B0047</td>\n",
              "      <td>2</td>\n",
              "      <td>3</td>\n",
              "      <td>00003.csv</td>\n",
              "      <td>NaN</td>\n",
              "      <td>NaN</td>\n",
              "      <td>NaN</td>\n",
              "    </tr>\n",
              "    <tr>\n",
              "      <th>3</th>\n",
              "      <td>impedance</td>\n",
              "      <td>[2010    7   21   20   31    5]</td>\n",
              "      <td>24</td>\n",
              "      <td>B0047</td>\n",
              "      <td>3</td>\n",
              "      <td>4</td>\n",
              "      <td>00004.csv</td>\n",
              "      <td>NaN</td>\n",
              "      <td>0.05319185850921101</td>\n",
              "      <td>0.16473399914864734</td>\n",
              "    </tr>\n",
              "    <tr>\n",
              "      <th>4</th>\n",
              "      <td>discharge</td>\n",
              "      <td>[2.0100e+03 7.0000e+00 2.1000e+01 2.1000e+01 2...</td>\n",
              "      <td>4</td>\n",
              "      <td>B0047</td>\n",
              "      <td>4</td>\n",
              "      <td>5</td>\n",
              "      <td>00005.csv</td>\n",
              "      <td>1.5243662105099023</td>\n",
              "      <td>NaN</td>\n",
              "      <td>NaN</td>\n",
              "    </tr>\n",
              "    <tr>\n",
              "      <th>...</th>\n",
              "      <td>...</td>\n",
              "      <td>...</td>\n",
              "      <td>...</td>\n",
              "      <td>...</td>\n",
              "      <td>...</td>\n",
              "      <td>...</td>\n",
              "      <td>...</td>\n",
              "      <td>...</td>\n",
              "      <td>...</td>\n",
              "      <td>...</td>\n",
              "    </tr>\n",
              "    <tr>\n",
              "      <th>7560</th>\n",
              "      <td>impedance</td>\n",
              "      <td>[2010.       9.      30.       7.      36.    ...</td>\n",
              "      <td>24</td>\n",
              "      <td>B0055</td>\n",
              "      <td>247</td>\n",
              "      <td>7561</td>\n",
              "      <td>07561.csv</td>\n",
              "      <td>NaN</td>\n",
              "      <td>0.0968087979207628</td>\n",
              "      <td>0.15489738203707232</td>\n",
              "    </tr>\n",
              "    <tr>\n",
              "      <th>7561</th>\n",
              "      <td>discharge</td>\n",
              "      <td>[2010.       9.      30.       8.       8.    ...</td>\n",
              "      <td>4</td>\n",
              "      <td>B0055</td>\n",
              "      <td>248</td>\n",
              "      <td>7562</td>\n",
              "      <td>07562.csv</td>\n",
              "      <td>1.0201379996149256</td>\n",
              "      <td>NaN</td>\n",
              "      <td>NaN</td>\n",
              "    </tr>\n",
              "    <tr>\n",
              "      <th>7562</th>\n",
              "      <td>charge</td>\n",
              "      <td>[2010.      9.     30.      8.     48.     54.25]</td>\n",
              "      <td>4</td>\n",
              "      <td>B0055</td>\n",
              "      <td>249</td>\n",
              "      <td>7563</td>\n",
              "      <td>07563.csv</td>\n",
              "      <td>NaN</td>\n",
              "      <td>NaN</td>\n",
              "      <td>NaN</td>\n",
              "    </tr>\n",
              "    <tr>\n",
              "      <th>7563</th>\n",
              "      <td>discharge</td>\n",
              "      <td>[2010.       9.      30.      11.      50.    ...</td>\n",
              "      <td>4</td>\n",
              "      <td>B0055</td>\n",
              "      <td>250</td>\n",
              "      <td>7564</td>\n",
              "      <td>07564.csv</td>\n",
              "      <td>0.9907591663373165</td>\n",
              "      <td>NaN</td>\n",
              "      <td>NaN</td>\n",
              "    </tr>\n",
              "    <tr>\n",
              "      <th>7564</th>\n",
              "      <td>charge</td>\n",
              "      <td>[2010.       9.      30.      12.      31.    ...</td>\n",
              "      <td>4</td>\n",
              "      <td>B0055</td>\n",
              "      <td>251</td>\n",
              "      <td>7565</td>\n",
              "      <td>07565.csv</td>\n",
              "      <td>NaN</td>\n",
              "      <td>NaN</td>\n",
              "      <td>NaN</td>\n",
              "    </tr>\n",
              "  </tbody>\n",
              "</table>\n",
              "<p>7565 rows × 10 columns</p>\n",
              "</div>"
            ],
            "text/plain": [
              "           type                                         start_time  \\\n",
              "0     discharge  [2010.       7.      21.      15.       0.    ...   \n",
              "1     impedance  [2010.       7.      21.      16.      53.    ...   \n",
              "2        charge  [2010.       7.      21.      17.      25.    ...   \n",
              "3     impedance                    [2010    7   21   20   31    5]   \n",
              "4     discharge  [2.0100e+03 7.0000e+00 2.1000e+01 2.1000e+01 2...   \n",
              "...         ...                                                ...   \n",
              "7560  impedance  [2010.       9.      30.       7.      36.    ...   \n",
              "7561  discharge  [2010.       9.      30.       8.       8.    ...   \n",
              "7562     charge  [2010.      9.     30.      8.     48.     54.25]   \n",
              "7563  discharge  [2010.       9.      30.      11.      50.    ...   \n",
              "7564     charge  [2010.       9.      30.      12.      31.    ...   \n",
              "\n",
              "      ambient_temperature battery_id  test_id   uid   filename  \\\n",
              "0                       4      B0047        0     1  00001.csv   \n",
              "1                      24      B0047        1     2  00002.csv   \n",
              "2                       4      B0047        2     3  00003.csv   \n",
              "3                      24      B0047        3     4  00004.csv   \n",
              "4                       4      B0047        4     5  00005.csv   \n",
              "...                   ...        ...      ...   ...        ...   \n",
              "7560                   24      B0055      247  7561  07561.csv   \n",
              "7561                    4      B0055      248  7562  07562.csv   \n",
              "7562                    4      B0055      249  7563  07563.csv   \n",
              "7563                    4      B0055      250  7564  07564.csv   \n",
              "7564                    4      B0055      251  7565  07565.csv   \n",
              "\n",
              "                Capacity                   Re                  Rct  \n",
              "0     1.6743047446975208                  NaN                  NaN  \n",
              "1                    NaN  0.05605783343888099  0.20097016584458333  \n",
              "2                    NaN                  NaN                  NaN  \n",
              "3                    NaN  0.05319185850921101  0.16473399914864734  \n",
              "4     1.5243662105099023                  NaN                  NaN  \n",
              "...                  ...                  ...                  ...  \n",
              "7560                 NaN   0.0968087979207628  0.15489738203707232  \n",
              "7561  1.0201379996149256                  NaN                  NaN  \n",
              "7562                 NaN                  NaN                  NaN  \n",
              "7563  0.9907591663373165                  NaN                  NaN  \n",
              "7564                 NaN                  NaN                  NaN  \n",
              "\n",
              "[7565 rows x 10 columns]"
            ]
          },
          "execution_count": 23,
          "metadata": {},
          "output_type": "execute_result"
        }
      ],
      "source": [
        "\n",
        "df = pd.read_csv(\"metadata.csv\")\n",
        "df"
      ]
    },
    {
      "cell_type": "code",
      "execution_count": null,
      "metadata": {
        "colab": {
          "base_uri": "https://localhost:8080/",
          "height": 423
        },
        "id": "hG5jmsbLW5uI",
        "outputId": "efaa5a53-f0be-4eb1-b377-b6ff536072b0"
      },
      "outputs": [
        {
          "data": {
            "text/html": [
              "<div>\n",
              "<style scoped>\n",
              "    .dataframe tbody tr th:only-of-type {\n",
              "        vertical-align: middle;\n",
              "    }\n",
              "\n",
              "    .dataframe tbody tr th {\n",
              "        vertical-align: top;\n",
              "    }\n",
              "\n",
              "    .dataframe thead th {\n",
              "        text-align: right;\n",
              "    }\n",
              "</style>\n",
              "<table border=\"1\" class=\"dataframe\">\n",
              "  <thead>\n",
              "    <tr style=\"text-align: right;\">\n",
              "      <th></th>\n",
              "      <th>type</th>\n",
              "      <th>ambient_temperature</th>\n",
              "      <th>Capacity</th>\n",
              "      <th>Re</th>\n",
              "      <th>Rct</th>\n",
              "    </tr>\n",
              "  </thead>\n",
              "  <tbody>\n",
              "    <tr>\n",
              "      <th>0</th>\n",
              "      <td>discharge</td>\n",
              "      <td>4</td>\n",
              "      <td>1.6743047446975208</td>\n",
              "      <td>NaN</td>\n",
              "      <td>NaN</td>\n",
              "    </tr>\n",
              "    <tr>\n",
              "      <th>1</th>\n",
              "      <td>impedance</td>\n",
              "      <td>24</td>\n",
              "      <td>NaN</td>\n",
              "      <td>0.05605783343888099</td>\n",
              "      <td>0.20097016584458333</td>\n",
              "    </tr>\n",
              "    <tr>\n",
              "      <th>2</th>\n",
              "      <td>charge</td>\n",
              "      <td>4</td>\n",
              "      <td>NaN</td>\n",
              "      <td>NaN</td>\n",
              "      <td>NaN</td>\n",
              "    </tr>\n",
              "    <tr>\n",
              "      <th>3</th>\n",
              "      <td>impedance</td>\n",
              "      <td>24</td>\n",
              "      <td>NaN</td>\n",
              "      <td>0.05319185850921101</td>\n",
              "      <td>0.16473399914864734</td>\n",
              "    </tr>\n",
              "    <tr>\n",
              "      <th>4</th>\n",
              "      <td>discharge</td>\n",
              "      <td>4</td>\n",
              "      <td>1.5243662105099023</td>\n",
              "      <td>NaN</td>\n",
              "      <td>NaN</td>\n",
              "    </tr>\n",
              "    <tr>\n",
              "      <th>...</th>\n",
              "      <td>...</td>\n",
              "      <td>...</td>\n",
              "      <td>...</td>\n",
              "      <td>...</td>\n",
              "      <td>...</td>\n",
              "    </tr>\n",
              "    <tr>\n",
              "      <th>7560</th>\n",
              "      <td>impedance</td>\n",
              "      <td>24</td>\n",
              "      <td>NaN</td>\n",
              "      <td>0.0968087979207628</td>\n",
              "      <td>0.15489738203707232</td>\n",
              "    </tr>\n",
              "    <tr>\n",
              "      <th>7561</th>\n",
              "      <td>discharge</td>\n",
              "      <td>4</td>\n",
              "      <td>1.0201379996149256</td>\n",
              "      <td>NaN</td>\n",
              "      <td>NaN</td>\n",
              "    </tr>\n",
              "    <tr>\n",
              "      <th>7562</th>\n",
              "      <td>charge</td>\n",
              "      <td>4</td>\n",
              "      <td>NaN</td>\n",
              "      <td>NaN</td>\n",
              "      <td>NaN</td>\n",
              "    </tr>\n",
              "    <tr>\n",
              "      <th>7563</th>\n",
              "      <td>discharge</td>\n",
              "      <td>4</td>\n",
              "      <td>0.9907591663373165</td>\n",
              "      <td>NaN</td>\n",
              "      <td>NaN</td>\n",
              "    </tr>\n",
              "    <tr>\n",
              "      <th>7564</th>\n",
              "      <td>charge</td>\n",
              "      <td>4</td>\n",
              "      <td>NaN</td>\n",
              "      <td>NaN</td>\n",
              "      <td>NaN</td>\n",
              "    </tr>\n",
              "  </tbody>\n",
              "</table>\n",
              "<p>7565 rows × 5 columns</p>\n",
              "</div>"
            ],
            "text/plain": [
              "           type  ambient_temperature            Capacity                   Re  \\\n",
              "0     discharge                    4  1.6743047446975208                  NaN   \n",
              "1     impedance                   24                 NaN  0.05605783343888099   \n",
              "2        charge                    4                 NaN                  NaN   \n",
              "3     impedance                   24                 NaN  0.05319185850921101   \n",
              "4     discharge                    4  1.5243662105099023                  NaN   \n",
              "...         ...                  ...                 ...                  ...   \n",
              "7560  impedance                   24                 NaN   0.0968087979207628   \n",
              "7561  discharge                    4  1.0201379996149256                  NaN   \n",
              "7562     charge                    4                 NaN                  NaN   \n",
              "7563  discharge                    4  0.9907591663373165                  NaN   \n",
              "7564     charge                    4                 NaN                  NaN   \n",
              "\n",
              "                      Rct  \n",
              "0                     NaN  \n",
              "1     0.20097016584458333  \n",
              "2                     NaN  \n",
              "3     0.16473399914864734  \n",
              "4                     NaN  \n",
              "...                   ...  \n",
              "7560  0.15489738203707232  \n",
              "7561                  NaN  \n",
              "7562                  NaN  \n",
              "7563                  NaN  \n",
              "7564                  NaN  \n",
              "\n",
              "[7565 rows x 5 columns]"
            ]
          },
          "execution_count": 24,
          "metadata": {},
          "output_type": "execute_result"
        }
      ],
      "source": [
        "df = df.drop(columns=['start_time','battery_id','test_id','uid','filename'])\n",
        "df"
      ]
    },
    {
      "cell_type": "code",
      "execution_count": null,
      "metadata": {
        "id": "pAsKdzBTW5uJ"
      },
      "outputs": [],
      "source": [
        "df['Re'] = pd.to_numeric(df['Re'], errors='coerce')\n",
        "df['Rct'] = pd.to_numeric(df['Rct'], errors='coerce')\n",
        "df['Capacity'] = pd.to_numeric(df['Capacity'], errors='coerce')"
      ]
    },
    {
      "cell_type": "code",
      "execution_count": null,
      "metadata": {
        "colab": {
          "base_uri": "https://localhost:8080/",
          "height": 808
        },
        "id": "3CSfqXHTW5uJ",
        "outputId": "91db2e43-8b8a-4d07-fad1-a17c49b45913"
      },
      "outputs": [
        {
          "name": "stderr",
          "output_type": "stream",
          "text": [
            "C:\\Users\\sheet\\AppData\\Local\\Temp\\ipykernel_31172\\1658380151.py:1: FutureWarning: A value is trying to be set on a copy of a DataFrame or Series through chained assignment using an inplace method.\n",
            "The behavior will change in pandas 3.0. This inplace method will never work because the intermediate object on which we are setting values always behaves as a copy.\n",
            "\n",
            "For example, when doing 'df[col].method(value, inplace=True)', try using 'df.method({col: value}, inplace=True)' or df[col] = df[col].method(value) instead, to perform the operation inplace on the original object.\n",
            "\n",
            "\n",
            "  df['Re'].fillna(df['Re'].mean(), inplace=True)\n",
            "C:\\Users\\sheet\\AppData\\Local\\Temp\\ipykernel_31172\\1658380151.py:2: FutureWarning: A value is trying to be set on a copy of a DataFrame or Series through chained assignment using an inplace method.\n",
            "The behavior will change in pandas 3.0. This inplace method will never work because the intermediate object on which we are setting values always behaves as a copy.\n",
            "\n",
            "For example, when doing 'df[col].method(value, inplace=True)', try using 'df.method({col: value}, inplace=True)' or df[col] = df[col].method(value) instead, to perform the operation inplace on the original object.\n",
            "\n",
            "\n",
            "  df['Rct'].fillna(df['Rct'].mean(), inplace=True)\n",
            "C:\\Users\\sheet\\AppData\\Local\\Temp\\ipykernel_31172\\1658380151.py:3: FutureWarning: A value is trying to be set on a copy of a DataFrame or Series through chained assignment using an inplace method.\n",
            "The behavior will change in pandas 3.0. This inplace method will never work because the intermediate object on which we are setting values always behaves as a copy.\n",
            "\n",
            "For example, when doing 'df[col].method(value, inplace=True)', try using 'df.method({col: value}, inplace=True)' or df[col] = df[col].method(value) instead, to perform the operation inplace on the original object.\n",
            "\n",
            "\n",
            "  df['Capacity'].fillna(df['Capacity'].mean(), inplace=True)\n"
          ]
        },
        {
          "data": {
            "text/html": [
              "<div>\n",
              "<style scoped>\n",
              "    .dataframe tbody tr th:only-of-type {\n",
              "        vertical-align: middle;\n",
              "    }\n",
              "\n",
              "    .dataframe tbody tr th {\n",
              "        vertical-align: top;\n",
              "    }\n",
              "\n",
              "    .dataframe thead th {\n",
              "        text-align: right;\n",
              "    }\n",
              "</style>\n",
              "<table border=\"1\" class=\"dataframe\">\n",
              "  <thead>\n",
              "    <tr style=\"text-align: right;\">\n",
              "      <th></th>\n",
              "      <th>type</th>\n",
              "      <th>ambient_temperature</th>\n",
              "      <th>Capacity</th>\n",
              "      <th>Re</th>\n",
              "      <th>Rct</th>\n",
              "    </tr>\n",
              "  </thead>\n",
              "  <tbody>\n",
              "    <tr>\n",
              "      <th>0</th>\n",
              "      <td>discharge</td>\n",
              "      <td>4</td>\n",
              "      <td>1.674305</td>\n",
              "      <td>-4.976500e+11</td>\n",
              "      <td>1.055903e+12</td>\n",
              "    </tr>\n",
              "    <tr>\n",
              "      <th>1</th>\n",
              "      <td>impedance</td>\n",
              "      <td>24</td>\n",
              "      <td>1.326543</td>\n",
              "      <td>5.605783e-02</td>\n",
              "      <td>2.009702e-01</td>\n",
              "    </tr>\n",
              "    <tr>\n",
              "      <th>2</th>\n",
              "      <td>charge</td>\n",
              "      <td>4</td>\n",
              "      <td>1.326543</td>\n",
              "      <td>-4.976500e+11</td>\n",
              "      <td>1.055903e+12</td>\n",
              "    </tr>\n",
              "    <tr>\n",
              "      <th>3</th>\n",
              "      <td>impedance</td>\n",
              "      <td>24</td>\n",
              "      <td>1.326543</td>\n",
              "      <td>5.319186e-02</td>\n",
              "      <td>1.647340e-01</td>\n",
              "    </tr>\n",
              "    <tr>\n",
              "      <th>4</th>\n",
              "      <td>discharge</td>\n",
              "      <td>4</td>\n",
              "      <td>1.524366</td>\n",
              "      <td>-4.976500e+11</td>\n",
              "      <td>1.055903e+12</td>\n",
              "    </tr>\n",
              "    <tr>\n",
              "      <th>...</th>\n",
              "      <td>...</td>\n",
              "      <td>...</td>\n",
              "      <td>...</td>\n",
              "      <td>...</td>\n",
              "      <td>...</td>\n",
              "    </tr>\n",
              "    <tr>\n",
              "      <th>7560</th>\n",
              "      <td>impedance</td>\n",
              "      <td>24</td>\n",
              "      <td>1.326543</td>\n",
              "      <td>9.680880e-02</td>\n",
              "      <td>1.548974e-01</td>\n",
              "    </tr>\n",
              "    <tr>\n",
              "      <th>7561</th>\n",
              "      <td>discharge</td>\n",
              "      <td>4</td>\n",
              "      <td>1.020138</td>\n",
              "      <td>-4.976500e+11</td>\n",
              "      <td>1.055903e+12</td>\n",
              "    </tr>\n",
              "    <tr>\n",
              "      <th>7562</th>\n",
              "      <td>charge</td>\n",
              "      <td>4</td>\n",
              "      <td>1.326543</td>\n",
              "      <td>-4.976500e+11</td>\n",
              "      <td>1.055903e+12</td>\n",
              "    </tr>\n",
              "    <tr>\n",
              "      <th>7563</th>\n",
              "      <td>discharge</td>\n",
              "      <td>4</td>\n",
              "      <td>0.990759</td>\n",
              "      <td>-4.976500e+11</td>\n",
              "      <td>1.055903e+12</td>\n",
              "    </tr>\n",
              "    <tr>\n",
              "      <th>7564</th>\n",
              "      <td>charge</td>\n",
              "      <td>4</td>\n",
              "      <td>1.326543</td>\n",
              "      <td>-4.976500e+11</td>\n",
              "      <td>1.055903e+12</td>\n",
              "    </tr>\n",
              "  </tbody>\n",
              "</table>\n",
              "<p>7565 rows × 5 columns</p>\n",
              "</div>"
            ],
            "text/plain": [
              "           type  ambient_temperature  Capacity            Re           Rct\n",
              "0     discharge                    4  1.674305 -4.976500e+11  1.055903e+12\n",
              "1     impedance                   24  1.326543  5.605783e-02  2.009702e-01\n",
              "2        charge                    4  1.326543 -4.976500e+11  1.055903e+12\n",
              "3     impedance                   24  1.326543  5.319186e-02  1.647340e-01\n",
              "4     discharge                    4  1.524366 -4.976500e+11  1.055903e+12\n",
              "...         ...                  ...       ...           ...           ...\n",
              "7560  impedance                   24  1.326543  9.680880e-02  1.548974e-01\n",
              "7561  discharge                    4  1.020138 -4.976500e+11  1.055903e+12\n",
              "7562     charge                    4  1.326543 -4.976500e+11  1.055903e+12\n",
              "7563  discharge                    4  0.990759 -4.976500e+11  1.055903e+12\n",
              "7564     charge                    4  1.326543 -4.976500e+11  1.055903e+12\n",
              "\n",
              "[7565 rows x 5 columns]"
            ]
          },
          "execution_count": 26,
          "metadata": {},
          "output_type": "execute_result"
        }
      ],
      "source": [
        "df['Re'].fillna(df['Re'].mean(), inplace=True)\n",
        "df['Rct'].fillna(df['Rct'].mean(), inplace=True)\n",
        "df['Capacity'].fillna(df['Capacity'].mean(), inplace=True)\n",
        "\n",
        "df"
      ]
    },
    {
      "cell_type": "code",
      "execution_count": null,
      "metadata": {
        "colab": {
          "base_uri": "https://localhost:8080/",
          "height": 206
        },
        "id": "p7ITaTRHW5uJ",
        "outputId": "ea2ba224-1840-4d4f-a413-b74bd2eed7b8"
      },
      "outputs": [
        {
          "data": {
            "text/html": [
              "<div>\n",
              "<style scoped>\n",
              "    .dataframe tbody tr th:only-of-type {\n",
              "        vertical-align: middle;\n",
              "    }\n",
              "\n",
              "    .dataframe tbody tr th {\n",
              "        vertical-align: top;\n",
              "    }\n",
              "\n",
              "    .dataframe thead th {\n",
              "        text-align: right;\n",
              "    }\n",
              "</style>\n",
              "<table border=\"1\" class=\"dataframe\">\n",
              "  <thead>\n",
              "    <tr style=\"text-align: right;\">\n",
              "      <th></th>\n",
              "      <th>type</th>\n",
              "      <th>ambient_temperature</th>\n",
              "      <th>Capacity</th>\n",
              "      <th>Re</th>\n",
              "      <th>Rct</th>\n",
              "    </tr>\n",
              "  </thead>\n",
              "  <tbody>\n",
              "    <tr>\n",
              "      <th>0</th>\n",
              "      <td>1</td>\n",
              "      <td>4</td>\n",
              "      <td>1.674305</td>\n",
              "      <td>-4.976500e+11</td>\n",
              "      <td>1.055903e+12</td>\n",
              "    </tr>\n",
              "    <tr>\n",
              "      <th>1</th>\n",
              "      <td>2</td>\n",
              "      <td>24</td>\n",
              "      <td>1.326543</td>\n",
              "      <td>5.605783e-02</td>\n",
              "      <td>2.009702e-01</td>\n",
              "    </tr>\n",
              "    <tr>\n",
              "      <th>2</th>\n",
              "      <td>0</td>\n",
              "      <td>4</td>\n",
              "      <td>1.326543</td>\n",
              "      <td>-4.976500e+11</td>\n",
              "      <td>1.055903e+12</td>\n",
              "    </tr>\n",
              "    <tr>\n",
              "      <th>3</th>\n",
              "      <td>2</td>\n",
              "      <td>24</td>\n",
              "      <td>1.326543</td>\n",
              "      <td>5.319186e-02</td>\n",
              "      <td>1.647340e-01</td>\n",
              "    </tr>\n",
              "    <tr>\n",
              "      <th>4</th>\n",
              "      <td>1</td>\n",
              "      <td>4</td>\n",
              "      <td>1.524366</td>\n",
              "      <td>-4.976500e+11</td>\n",
              "      <td>1.055903e+12</td>\n",
              "    </tr>\n",
              "  </tbody>\n",
              "</table>\n",
              "</div>"
            ],
            "text/plain": [
              "   type  ambient_temperature  Capacity            Re           Rct\n",
              "0     1                    4  1.674305 -4.976500e+11  1.055903e+12\n",
              "1     2                   24  1.326543  5.605783e-02  2.009702e-01\n",
              "2     0                    4  1.326543 -4.976500e+11  1.055903e+12\n",
              "3     2                   24  1.326543  5.319186e-02  1.647340e-01\n",
              "4     1                    4  1.524366 -4.976500e+11  1.055903e+12"
            ]
          },
          "execution_count": 27,
          "metadata": {},
          "output_type": "execute_result"
        }
      ],
      "source": [
        "\n",
        "label_encoder = LabelEncoder()\n",
        "df['type'] = label_encoder.fit_transform(df['type'])\n",
        "df.head()"
      ]
    },
    {
      "cell_type": "code",
      "execution_count": null,
      "metadata": {
        "colab": {
          "base_uri": "https://localhost:8080/"
        },
        "id": "jpdUUCztW5uK",
        "outputId": "cf0d7b4e-76b2-41d4-e42d-136fe435f844"
      },
      "outputs": [
        {
          "name": "stdout",
          "output_type": "stream",
          "text": [
            "X_train shape: (6052, 4)\n",
            "X_test shape: (1513, 4)\n"
          ]
        }
      ],
      "source": [
        "# Features (X) - All columns except 'ambient_temperature'\n",
        "X = df.drop(columns=['ambient_temperature'])\n",
        "\n",
        "# Target (y) - 'ambient_temperature' column\n",
        "y = df['ambient_temperature']\n",
        "\n",
        "# Split the data into 80% training and 20% testing\n",
        "X_train, X_test, y_train, y_test = train_test_split(X, y, test_size=0.2, random_state=42)\n",
        "\n",
        "# Display the shapes of the split data\n",
        "print(f'X_train shape: {X_train.shape}')\n",
        "print(f'X_test shape: {X_test.shape}')"
      ]
    },
    {
      "cell_type": "code",
      "execution_count": null,
      "metadata": {
        "colab": {
          "base_uri": "https://localhost:8080/"
        },
        "id": "M4tAJYlDW5uL",
        "outputId": "60dfdfb5-6bb4-4783-f203-0e6e31794fcc"
      },
      "outputs": [
        {
          "name": "stdout",
          "output_type": "stream",
          "text": [
            "Scaled X_train: \n",
            "[[1.00000000e+00 5.02450122e-01 9.99999999e-01 1.98111482e-10]\n",
            " [5.00000000e-01 4.55998175e-01 0.00000000e+00 1.00000000e+00]\n",
            " [5.00000000e-01 3.60527766e-02 0.00000000e+00 1.00000000e+00]\n",
            " [0.00000000e+00 5.02450122e-01 0.00000000e+00 1.00000000e+00]\n",
            " [5.00000000e-01 5.35874070e-01 0.00000000e+00 1.00000000e+00]]\n"
          ]
        }
      ],
      "source": [
        "# Initialize the StandardScaler\n",
        "scaler = MinMaxScaler()\n",
        "\n",
        "# Fit and transform the training data, then transform the test data\n",
        "X_train_scaled = scaler.fit_transform(X_train)\n",
        "X_test_scaled = scaler.transform(X_test)\n",
        "\n",
        "# Check the scaled data\n",
        "print(f'Scaled X_train: \\n{X_train_scaled[:5]}')"
      ]
    },
    {
      "cell_type": "code",
      "execution_count": null,
      "metadata": {
        "colab": {
          "base_uri": "https://localhost:8080/",
          "height": 673
        },
        "id": "QZub7-iLW5uL",
        "outputId": "cca6303b-426f-451d-f7d7-4c3a0e05f57e"
      },
      "outputs": [
        {
          "name": "stderr",
          "output_type": "stream",
          "text": [
            "c:\\Users\\sheet\\Desktop\\MLProject\\batterylifeprediction\\.venv\\Lib\\site-packages\\keras\\src\\layers\\core\\dense.py:87: UserWarning: Do not pass an `input_shape`/`input_dim` argument to a layer. When using Sequential models, prefer using an `Input(shape)` object as the first layer in the model instead.\n",
            "  super().__init__(activity_regularizer=activity_regularizer, **kwargs)\n"
          ]
        },
        {
          "data": {
            "text/html": [
              "<pre style=\"white-space:pre;overflow-x:auto;line-height:normal;font-family:Menlo,'DejaVu Sans Mono',consolas,'Courier New',monospace\"><span style=\"font-weight: bold\">Model: \"sequential_1\"</span>\n",
              "</pre>\n"
            ],
            "text/plain": [
              "\u001b[1mModel: \"sequential_1\"\u001b[0m\n"
            ]
          },
          "metadata": {},
          "output_type": "display_data"
        },
        {
          "data": {
            "text/html": [
              "<pre style=\"white-space:pre;overflow-x:auto;line-height:normal;font-family:Menlo,'DejaVu Sans Mono',consolas,'Courier New',monospace\">┏━━━━━━━━━━━━━━━━━━━━━━━━━━━━━━━━━┳━━━━━━━━━━━━━━━━━━━━━━━━┳━━━━━━━━━━━━━━━┓\n",
              "┃<span style=\"font-weight: bold\"> Layer (type)                    </span>┃<span style=\"font-weight: bold\"> Output Shape           </span>┃<span style=\"font-weight: bold\">       Param # </span>┃\n",
              "┡━━━━━━━━━━━━━━━━━━━━━━━━━━━━━━━━━╇━━━━━━━━━━━━━━━━━━━━━━━━╇━━━━━━━━━━━━━━━┩\n",
              "│ dense_5 (<span style=\"color: #0087ff; text-decoration-color: #0087ff\">Dense</span>)                 │ (<span style=\"color: #00d7ff; text-decoration-color: #00d7ff\">None</span>, <span style=\"color: #00af00; text-decoration-color: #00af00\">256</span>)            │         <span style=\"color: #00af00; text-decoration-color: #00af00\">1,280</span> │\n",
              "├─────────────────────────────────┼────────────────────────┼───────────────┤\n",
              "│ batch_normalization_4           │ (<span style=\"color: #00d7ff; text-decoration-color: #00d7ff\">None</span>, <span style=\"color: #00af00; text-decoration-color: #00af00\">256</span>)            │         <span style=\"color: #00af00; text-decoration-color: #00af00\">1,024</span> │\n",
              "│ (<span style=\"color: #0087ff; text-decoration-color: #0087ff\">BatchNormalization</span>)            │                        │               │\n",
              "├─────────────────────────────────┼────────────────────────┼───────────────┤\n",
              "│ dropout_4 (<span style=\"color: #0087ff; text-decoration-color: #0087ff\">Dropout</span>)             │ (<span style=\"color: #00d7ff; text-decoration-color: #00d7ff\">None</span>, <span style=\"color: #00af00; text-decoration-color: #00af00\">256</span>)            │             <span style=\"color: #00af00; text-decoration-color: #00af00\">0</span> │\n",
              "├─────────────────────────────────┼────────────────────────┼───────────────┤\n",
              "│ dense_6 (<span style=\"color: #0087ff; text-decoration-color: #0087ff\">Dense</span>)                 │ (<span style=\"color: #00d7ff; text-decoration-color: #00d7ff\">None</span>, <span style=\"color: #00af00; text-decoration-color: #00af00\">128</span>)            │        <span style=\"color: #00af00; text-decoration-color: #00af00\">32,896</span> │\n",
              "├─────────────────────────────────┼────────────────────────┼───────────────┤\n",
              "│ batch_normalization_5           │ (<span style=\"color: #00d7ff; text-decoration-color: #00d7ff\">None</span>, <span style=\"color: #00af00; text-decoration-color: #00af00\">128</span>)            │           <span style=\"color: #00af00; text-decoration-color: #00af00\">512</span> │\n",
              "│ (<span style=\"color: #0087ff; text-decoration-color: #0087ff\">BatchNormalization</span>)            │                        │               │\n",
              "├─────────────────────────────────┼────────────────────────┼───────────────┤\n",
              "│ dropout_5 (<span style=\"color: #0087ff; text-decoration-color: #0087ff\">Dropout</span>)             │ (<span style=\"color: #00d7ff; text-decoration-color: #00d7ff\">None</span>, <span style=\"color: #00af00; text-decoration-color: #00af00\">128</span>)            │             <span style=\"color: #00af00; text-decoration-color: #00af00\">0</span> │\n",
              "├─────────────────────────────────┼────────────────────────┼───────────────┤\n",
              "│ dense_7 (<span style=\"color: #0087ff; text-decoration-color: #0087ff\">Dense</span>)                 │ (<span style=\"color: #00d7ff; text-decoration-color: #00d7ff\">None</span>, <span style=\"color: #00af00; text-decoration-color: #00af00\">64</span>)             │         <span style=\"color: #00af00; text-decoration-color: #00af00\">8,256</span> │\n",
              "├─────────────────────────────────┼────────────────────────┼───────────────┤\n",
              "│ batch_normalization_6           │ (<span style=\"color: #00d7ff; text-decoration-color: #00d7ff\">None</span>, <span style=\"color: #00af00; text-decoration-color: #00af00\">64</span>)             │           <span style=\"color: #00af00; text-decoration-color: #00af00\">256</span> │\n",
              "│ (<span style=\"color: #0087ff; text-decoration-color: #0087ff\">BatchNormalization</span>)            │                        │               │\n",
              "├─────────────────────────────────┼────────────────────────┼───────────────┤\n",
              "│ dropout_6 (<span style=\"color: #0087ff; text-decoration-color: #0087ff\">Dropout</span>)             │ (<span style=\"color: #00d7ff; text-decoration-color: #00d7ff\">None</span>, <span style=\"color: #00af00; text-decoration-color: #00af00\">64</span>)             │             <span style=\"color: #00af00; text-decoration-color: #00af00\">0</span> │\n",
              "├─────────────────────────────────┼────────────────────────┼───────────────┤\n",
              "│ dense_8 (<span style=\"color: #0087ff; text-decoration-color: #0087ff\">Dense</span>)                 │ (<span style=\"color: #00d7ff; text-decoration-color: #00d7ff\">None</span>, <span style=\"color: #00af00; text-decoration-color: #00af00\">32</span>)             │         <span style=\"color: #00af00; text-decoration-color: #00af00\">2,080</span> │\n",
              "├─────────────────────────────────┼────────────────────────┼───────────────┤\n",
              "│ batch_normalization_7           │ (<span style=\"color: #00d7ff; text-decoration-color: #00d7ff\">None</span>, <span style=\"color: #00af00; text-decoration-color: #00af00\">32</span>)             │           <span style=\"color: #00af00; text-decoration-color: #00af00\">128</span> │\n",
              "│ (<span style=\"color: #0087ff; text-decoration-color: #0087ff\">BatchNormalization</span>)            │                        │               │\n",
              "├─────────────────────────────────┼────────────────────────┼───────────────┤\n",
              "│ dropout_7 (<span style=\"color: #0087ff; text-decoration-color: #0087ff\">Dropout</span>)             │ (<span style=\"color: #00d7ff; text-decoration-color: #00d7ff\">None</span>, <span style=\"color: #00af00; text-decoration-color: #00af00\">32</span>)             │             <span style=\"color: #00af00; text-decoration-color: #00af00\">0</span> │\n",
              "├─────────────────────────────────┼────────────────────────┼───────────────┤\n",
              "│ dense_9 (<span style=\"color: #0087ff; text-decoration-color: #0087ff\">Dense</span>)                 │ (<span style=\"color: #00d7ff; text-decoration-color: #00d7ff\">None</span>, <span style=\"color: #00af00; text-decoration-color: #00af00\">1</span>)              │            <span style=\"color: #00af00; text-decoration-color: #00af00\">33</span> │\n",
              "└─────────────────────────────────┴────────────────────────┴───────────────┘\n",
              "</pre>\n"
            ],
            "text/plain": [
              "┏━━━━━━━━━━━━━━━━━━━━━━━━━━━━━━━━━┳━━━━━━━━━━━━━━━━━━━━━━━━┳━━━━━━━━━━━━━━━┓\n",
              "┃\u001b[1m \u001b[0m\u001b[1mLayer (type)                   \u001b[0m\u001b[1m \u001b[0m┃\u001b[1m \u001b[0m\u001b[1mOutput Shape          \u001b[0m\u001b[1m \u001b[0m┃\u001b[1m \u001b[0m\u001b[1m      Param #\u001b[0m\u001b[1m \u001b[0m┃\n",
              "┡━━━━━━━━━━━━━━━━━━━━━━━━━━━━━━━━━╇━━━━━━━━━━━━━━━━━━━━━━━━╇━━━━━━━━━━━━━━━┩\n",
              "│ dense_5 (\u001b[38;5;33mDense\u001b[0m)                 │ (\u001b[38;5;45mNone\u001b[0m, \u001b[38;5;34m256\u001b[0m)            │         \u001b[38;5;34m1,280\u001b[0m │\n",
              "├─────────────────────────────────┼────────────────────────┼───────────────┤\n",
              "│ batch_normalization_4           │ (\u001b[38;5;45mNone\u001b[0m, \u001b[38;5;34m256\u001b[0m)            │         \u001b[38;5;34m1,024\u001b[0m │\n",
              "│ (\u001b[38;5;33mBatchNormalization\u001b[0m)            │                        │               │\n",
              "├─────────────────────────────────┼────────────────────────┼───────────────┤\n",
              "│ dropout_4 (\u001b[38;5;33mDropout\u001b[0m)             │ (\u001b[38;5;45mNone\u001b[0m, \u001b[38;5;34m256\u001b[0m)            │             \u001b[38;5;34m0\u001b[0m │\n",
              "├─────────────────────────────────┼────────────────────────┼───────────────┤\n",
              "│ dense_6 (\u001b[38;5;33mDense\u001b[0m)                 │ (\u001b[38;5;45mNone\u001b[0m, \u001b[38;5;34m128\u001b[0m)            │        \u001b[38;5;34m32,896\u001b[0m │\n",
              "├─────────────────────────────────┼────────────────────────┼───────────────┤\n",
              "│ batch_normalization_5           │ (\u001b[38;5;45mNone\u001b[0m, \u001b[38;5;34m128\u001b[0m)            │           \u001b[38;5;34m512\u001b[0m │\n",
              "│ (\u001b[38;5;33mBatchNormalization\u001b[0m)            │                        │               │\n",
              "├─────────────────────────────────┼────────────────────────┼───────────────┤\n",
              "│ dropout_5 (\u001b[38;5;33mDropout\u001b[0m)             │ (\u001b[38;5;45mNone\u001b[0m, \u001b[38;5;34m128\u001b[0m)            │             \u001b[38;5;34m0\u001b[0m │\n",
              "├─────────────────────────────────┼────────────────────────┼───────────────┤\n",
              "│ dense_7 (\u001b[38;5;33mDense\u001b[0m)                 │ (\u001b[38;5;45mNone\u001b[0m, \u001b[38;5;34m64\u001b[0m)             │         \u001b[38;5;34m8,256\u001b[0m │\n",
              "├─────────────────────────────────┼────────────────────────┼───────────────┤\n",
              "│ batch_normalization_6           │ (\u001b[38;5;45mNone\u001b[0m, \u001b[38;5;34m64\u001b[0m)             │           \u001b[38;5;34m256\u001b[0m │\n",
              "│ (\u001b[38;5;33mBatchNormalization\u001b[0m)            │                        │               │\n",
              "├─────────────────────────────────┼────────────────────────┼───────────────┤\n",
              "│ dropout_6 (\u001b[38;5;33mDropout\u001b[0m)             │ (\u001b[38;5;45mNone\u001b[0m, \u001b[38;5;34m64\u001b[0m)             │             \u001b[38;5;34m0\u001b[0m │\n",
              "├─────────────────────────────────┼────────────────────────┼───────────────┤\n",
              "│ dense_8 (\u001b[38;5;33mDense\u001b[0m)                 │ (\u001b[38;5;45mNone\u001b[0m, \u001b[38;5;34m32\u001b[0m)             │         \u001b[38;5;34m2,080\u001b[0m │\n",
              "├─────────────────────────────────┼────────────────────────┼───────────────┤\n",
              "│ batch_normalization_7           │ (\u001b[38;5;45mNone\u001b[0m, \u001b[38;5;34m32\u001b[0m)             │           \u001b[38;5;34m128\u001b[0m │\n",
              "│ (\u001b[38;5;33mBatchNormalization\u001b[0m)            │                        │               │\n",
              "├─────────────────────────────────┼────────────────────────┼───────────────┤\n",
              "│ dropout_7 (\u001b[38;5;33mDropout\u001b[0m)             │ (\u001b[38;5;45mNone\u001b[0m, \u001b[38;5;34m32\u001b[0m)             │             \u001b[38;5;34m0\u001b[0m │\n",
              "├─────────────────────────────────┼────────────────────────┼───────────────┤\n",
              "│ dense_9 (\u001b[38;5;33mDense\u001b[0m)                 │ (\u001b[38;5;45mNone\u001b[0m, \u001b[38;5;34m1\u001b[0m)              │            \u001b[38;5;34m33\u001b[0m │\n",
              "└─────────────────────────────────┴────────────────────────┴───────────────┘\n"
            ]
          },
          "metadata": {},
          "output_type": "display_data"
        },
        {
          "data": {
            "text/html": [
              "<pre style=\"white-space:pre;overflow-x:auto;line-height:normal;font-family:Menlo,'DejaVu Sans Mono',consolas,'Courier New',monospace\"><span style=\"font-weight: bold\"> Total params: </span><span style=\"color: #00af00; text-decoration-color: #00af00\">46,465</span> (181.50 KB)\n",
              "</pre>\n"
            ],
            "text/plain": [
              "\u001b[1m Total params: \u001b[0m\u001b[38;5;34m46,465\u001b[0m (181.50 KB)\n"
            ]
          },
          "metadata": {},
          "output_type": "display_data"
        },
        {
          "data": {
            "text/html": [
              "<pre style=\"white-space:pre;overflow-x:auto;line-height:normal;font-family:Menlo,'DejaVu Sans Mono',consolas,'Courier New',monospace\"><span style=\"font-weight: bold\"> Trainable params: </span><span style=\"color: #00af00; text-decoration-color: #00af00\">45,505</span> (177.75 KB)\n",
              "</pre>\n"
            ],
            "text/plain": [
              "\u001b[1m Trainable params: \u001b[0m\u001b[38;5;34m45,505\u001b[0m (177.75 KB)\n"
            ]
          },
          "metadata": {},
          "output_type": "display_data"
        },
        {
          "data": {
            "text/html": [
              "<pre style=\"white-space:pre;overflow-x:auto;line-height:normal;font-family:Menlo,'DejaVu Sans Mono',consolas,'Courier New',monospace\"><span style=\"font-weight: bold\"> Non-trainable params: </span><span style=\"color: #00af00; text-decoration-color: #00af00\">960</span> (3.75 KB)\n",
              "</pre>\n"
            ],
            "text/plain": [
              "\u001b[1m Non-trainable params: \u001b[0m\u001b[38;5;34m960\u001b[0m (3.75 KB)\n"
            ]
          },
          "metadata": {},
          "output_type": "display_data"
        }
      ],
      "source": [
        "#model building starts\n",
        "# Initialize the ANN model\n",
        "from tensorflow.keras.models import Sequential # type: ignore\n",
        "from tensorflow.keras.layers import Dense, Dropout, BatchNormalization # type: ignore\n",
        "from tensorflow.keras.optimizers import Nadam, Adam # type: ignore\n",
        "from tensorflow.keras.callbacks import EarlyStopping # type: ignore\n",
        "\n",
        "# Define the model\n",
        "model = Sequential()\n",
        "\n",
        "# Input + First hidden layer\n",
        "model.add(Dense(256, activation='relu', input_dim=X_train_scaled.shape[1]))\n",
        "model.add(BatchNormalization())\n",
        "model.add(Dropout(0.3))\n",
        "\n",
        "# Second hidden layer\n",
        "model.add(Dense(128, activation='relu'))\n",
        "model.add(BatchNormalization())\n",
        "model.add(Dropout(0.3))\n",
        "\n",
        "# Third hidden layer\n",
        "model.add(Dense(64, activation='relu'))\n",
        "model.add(BatchNormalization())\n",
        "model.add(Dropout(0.2))\n",
        "\n",
        "# Fourth hidden layer\n",
        "model.add(Dense(32, activation='relu'))\n",
        "model.add(BatchNormalization())\n",
        "model.add(Dropout(0.2))\n",
        "\n",
        "# Output layer\n",
        "model.add(Dense(1, activation='linear'))\n",
        "\n",
        "# Compile the model\n",
        "model.compile(optimizer=Adam(), loss='mean_squared_error')\n",
        "\n",
        "# Print model summary\n",
        "model.summary()\n",
        "\n",
        "# EarlyStopping callback\n",
        "early_stop = EarlyStopping(monitor='val_loss', patience=25, restore_best_weights=True)\n",
        "\n",
        "# Now use it while training\n"
      ]
    },
    {
      "cell_type": "code",
      "execution_count": null,
      "metadata": {
        "colab": {
          "base_uri": "https://localhost:8080/"
        },
        "id": "aE2SDTWCW5uM",
        "outputId": "7714c764-db8f-4395-f5d0-024422e3e68f"
      },
      "outputs": [
        {
          "name": "stdout",
          "output_type": "stream",
          "text": [
            "Epoch 1/200\n",
            "\u001b[1m233/233\u001b[0m \u001b[32m━━━━━━━━━━━━━━━━━━━━\u001b[0m\u001b[37m\u001b[0m \u001b[1m6s\u001b[0m 6ms/step - loss: 480.2988 - val_loss: 1726.6967\n",
            "Epoch 2/200\n",
            "\u001b[1m233/233\u001b[0m \u001b[32m━━━━━━━━━━━━━━━━━━━━\u001b[0m\u001b[37m\u001b[0m \u001b[1m1s\u001b[0m 4ms/step - loss: 338.8058 - val_loss: 4122.3594\n",
            "Epoch 3/200\n",
            "\u001b[1m233/233\u001b[0m \u001b[32m━━━━━━━━━━━━━━━━━━━━\u001b[0m\u001b[37m\u001b[0m \u001b[1m1s\u001b[0m 5ms/step - loss: 153.3594 - val_loss: 2504.0278\n",
            "Epoch 4/200\n",
            "\u001b[1m233/233\u001b[0m \u001b[32m━━━━━━━━━━━━━━━━━━━━\u001b[0m\u001b[37m\u001b[0m \u001b[1m1s\u001b[0m 5ms/step - loss: 99.1762 - val_loss: 2443.4348\n",
            "Epoch 5/200\n",
            "\u001b[1m233/233\u001b[0m \u001b[32m━━━━━━━━━━━━━━━━━━━━\u001b[0m\u001b[37m\u001b[0m \u001b[1m1s\u001b[0m 5ms/step - loss: 97.4711 - val_loss: 264.0825\n",
            "Epoch 6/200\n",
            "\u001b[1m233/233\u001b[0m \u001b[32m━━━━━━━━━━━━━━━━━━━━\u001b[0m\u001b[37m\u001b[0m \u001b[1m1s\u001b[0m 5ms/step - loss: 99.3456 - val_loss: 193.0339\n",
            "Epoch 7/200\n",
            "\u001b[1m233/233\u001b[0m \u001b[32m━━━━━━━━━━━━━━━━━━━━\u001b[0m\u001b[37m\u001b[0m \u001b[1m1s\u001b[0m 4ms/step - loss: 95.4413 - val_loss: 1531.1462\n",
            "Epoch 8/200\n",
            "\u001b[1m233/233\u001b[0m \u001b[32m━━━━━━━━━━━━━━━━━━━━\u001b[0m\u001b[37m\u001b[0m \u001b[1m1s\u001b[0m 5ms/step - loss: 90.9391 - val_loss: 382.8914\n",
            "Epoch 9/200\n",
            "\u001b[1m233/233\u001b[0m \u001b[32m━━━━━━━━━━━━━━━━━━━━\u001b[0m\u001b[37m\u001b[0m \u001b[1m1s\u001b[0m 4ms/step - loss: 92.0294 - val_loss: 5605.7979\n",
            "Epoch 10/200\n",
            "\u001b[1m233/233\u001b[0m \u001b[32m━━━━━━━━━━━━━━━━━━━━\u001b[0m\u001b[37m\u001b[0m \u001b[1m1s\u001b[0m 5ms/step - loss: 92.9133 - val_loss: 995.8683\n",
            "Epoch 11/200\n",
            "\u001b[1m233/233\u001b[0m \u001b[32m━━━━━━━━━━━━━━━━━━━━\u001b[0m\u001b[37m\u001b[0m \u001b[1m1s\u001b[0m 5ms/step - loss: 89.3337 - val_loss: 2572.5986\n",
            "Epoch 12/200\n",
            "\u001b[1m233/233\u001b[0m \u001b[32m━━━━━━━━━━━━━━━━━━━━\u001b[0m\u001b[37m\u001b[0m \u001b[1m1s\u001b[0m 6ms/step - loss: 91.2476 - val_loss: 6441.5176\n",
            "Epoch 13/200\n",
            "\u001b[1m233/233\u001b[0m \u001b[32m━━━━━━━━━━━━━━━━━━━━\u001b[0m\u001b[37m\u001b[0m \u001b[1m1s\u001b[0m 6ms/step - loss: 88.7047 - val_loss: 1352.5623\n",
            "Epoch 14/200\n",
            "\u001b[1m233/233\u001b[0m \u001b[32m━━━━━━━━━━━━━━━━━━━━\u001b[0m\u001b[37m\u001b[0m \u001b[1m1s\u001b[0m 5ms/step - loss: 87.8422 - val_loss: 2963.2686\n",
            "Epoch 15/200\n",
            "\u001b[1m233/233\u001b[0m \u001b[32m━━━━━━━━━━━━━━━━━━━━\u001b[0m\u001b[37m\u001b[0m \u001b[1m1s\u001b[0m 5ms/step - loss: 89.3824 - val_loss: 1542.8060\n",
            "Epoch 16/200\n",
            "\u001b[1m233/233\u001b[0m \u001b[32m━━━━━━━━━━━━━━━━━━━━\u001b[0m\u001b[37m\u001b[0m \u001b[1m1s\u001b[0m 5ms/step - loss: 87.6909 - val_loss: 1434.1902\n",
            "Epoch 17/200\n",
            "\u001b[1m233/233\u001b[0m \u001b[32m━━━━━━━━━━━━━━━━━━━━\u001b[0m\u001b[37m\u001b[0m \u001b[1m1s\u001b[0m 5ms/step - loss: 92.6953 - val_loss: 676.9355\n",
            "Epoch 18/200\n",
            "\u001b[1m233/233\u001b[0m \u001b[32m━━━━━━━━━━━━━━━━━━━━\u001b[0m\u001b[37m\u001b[0m \u001b[1m1s\u001b[0m 5ms/step - loss: 86.8123 - val_loss: 4844.3398\n",
            "Epoch 19/200\n",
            "\u001b[1m233/233\u001b[0m \u001b[32m━━━━━━━━━━━━━━━━━━━━\u001b[0m\u001b[37m\u001b[0m \u001b[1m1s\u001b[0m 4ms/step - loss: 87.0981 - val_loss: 5890.1079\n",
            "Epoch 20/200\n",
            "\u001b[1m233/233\u001b[0m \u001b[32m━━━━━━━━━━━━━━━━━━━━\u001b[0m\u001b[37m\u001b[0m \u001b[1m1s\u001b[0m 5ms/step - loss: 91.8575 - val_loss: 5148.7529\n",
            "Epoch 21/200\n",
            "\u001b[1m233/233\u001b[0m \u001b[32m━━━━━━━━━━━━━━━━━━━━\u001b[0m\u001b[37m\u001b[0m \u001b[1m2s\u001b[0m 7ms/step - loss: 91.4466 - val_loss: 4794.1958\n",
            "Epoch 22/200\n",
            "\u001b[1m233/233\u001b[0m \u001b[32m━━━━━━━━━━━━━━━━━━━━\u001b[0m\u001b[37m\u001b[0m \u001b[1m2s\u001b[0m 6ms/step - loss: 91.0764 - val_loss: 3593.0381\n",
            "Epoch 23/200\n",
            "\u001b[1m233/233\u001b[0m \u001b[32m━━━━━━━━━━━━━━━━━━━━\u001b[0m\u001b[37m\u001b[0m \u001b[1m1s\u001b[0m 6ms/step - loss: 92.2357 - val_loss: 229.3240\n",
            "Epoch 24/200\n",
            "\u001b[1m233/233\u001b[0m \u001b[32m━━━━━━━━━━━━━━━━━━━━\u001b[0m\u001b[37m\u001b[0m \u001b[1m1s\u001b[0m 4ms/step - loss: 90.2135 - val_loss: 1004.4381\n",
            "Epoch 25/200\n",
            "\u001b[1m233/233\u001b[0m \u001b[32m━━━━━━━━━━━━━━━━━━━━\u001b[0m\u001b[37m\u001b[0m \u001b[1m1s\u001b[0m 4ms/step - loss: 88.7320 - val_loss: 756.8962\n",
            "Epoch 26/200\n",
            "\u001b[1m233/233\u001b[0m \u001b[32m━━━━━━━━━━━━━━━━━━━━\u001b[0m\u001b[37m\u001b[0m \u001b[1m1s\u001b[0m 4ms/step - loss: 86.2611 - val_loss: 149.3176\n",
            "Epoch 27/200\n",
            "\u001b[1m233/233\u001b[0m \u001b[32m━━━━━━━━━━━━━━━━━━━━\u001b[0m\u001b[37m\u001b[0m \u001b[1m1s\u001b[0m 4ms/step - loss: 94.2679 - val_loss: 85.9750\n",
            "Epoch 28/200\n",
            "\u001b[1m233/233\u001b[0m \u001b[32m━━━━━━━━━━━━━━━━━━━━\u001b[0m\u001b[37m\u001b[0m \u001b[1m1s\u001b[0m 4ms/step - loss: 87.6162 - val_loss: 126.8890\n",
            "Epoch 29/200\n",
            "\u001b[1m233/233\u001b[0m \u001b[32m━━━━━━━━━━━━━━━━━━━━\u001b[0m\u001b[37m\u001b[0m \u001b[1m1s\u001b[0m 4ms/step - loss: 88.9129 - val_loss: 90.7991\n",
            "Epoch 30/200\n",
            "\u001b[1m233/233\u001b[0m \u001b[32m━━━━━━━━━━━━━━━━━━━━\u001b[0m\u001b[37m\u001b[0m \u001b[1m1s\u001b[0m 5ms/step - loss: 91.9704 - val_loss: 775.2653\n",
            "Epoch 31/200\n",
            "\u001b[1m233/233\u001b[0m \u001b[32m━━━━━━━━━━━━━━━━━━━━\u001b[0m\u001b[37m\u001b[0m \u001b[1m1s\u001b[0m 5ms/step - loss: 88.3578 - val_loss: 1182.9344\n",
            "Epoch 32/200\n",
            "\u001b[1m233/233\u001b[0m \u001b[32m━━━━━━━━━━━━━━━━━━━━\u001b[0m\u001b[37m\u001b[0m \u001b[1m1s\u001b[0m 6ms/step - loss: 91.0919 - val_loss: 939.0620\n",
            "Epoch 33/200\n",
            "\u001b[1m233/233\u001b[0m \u001b[32m━━━━━━━━━━━━━━━━━━━━\u001b[0m\u001b[37m\u001b[0m \u001b[1m1s\u001b[0m 4ms/step - loss: 89.7507 - val_loss: 1114.6744\n",
            "Epoch 34/200\n",
            "\u001b[1m233/233\u001b[0m \u001b[32m━━━━━━━━━━━━━━━━━━━━\u001b[0m\u001b[37m\u001b[0m \u001b[1m1s\u001b[0m 5ms/step - loss: 87.4726 - val_loss: 5545.9946\n",
            "Epoch 35/200\n",
            "\u001b[1m233/233\u001b[0m \u001b[32m━━━━━━━━━━━━━━━━━━━━\u001b[0m\u001b[37m\u001b[0m \u001b[1m1s\u001b[0m 5ms/step - loss: 85.0588 - val_loss: 4209.5454\n",
            "Epoch 36/200\n",
            "\u001b[1m233/233\u001b[0m \u001b[32m━━━━━━━━━━━━━━━━━━━━\u001b[0m\u001b[37m\u001b[0m \u001b[1m1s\u001b[0m 5ms/step - loss: 93.0535 - val_loss: 5621.7583\n",
            "Epoch 37/200\n",
            "\u001b[1m233/233\u001b[0m \u001b[32m━━━━━━━━━━━━━━━━━━━━\u001b[0m\u001b[37m\u001b[0m \u001b[1m1s\u001b[0m 5ms/step - loss: 87.3411 - val_loss: 7829.4287\n",
            "Epoch 38/200\n",
            "\u001b[1m233/233\u001b[0m \u001b[32m━━━━━━━━━━━━━━━━━━━━\u001b[0m\u001b[37m\u001b[0m \u001b[1m1s\u001b[0m 4ms/step - loss: 87.4713 - val_loss: 8263.8867\n",
            "Epoch 39/200\n",
            "\u001b[1m233/233\u001b[0m \u001b[32m━━━━━━━━━━━━━━━━━━━━\u001b[0m\u001b[37m\u001b[0m \u001b[1m1s\u001b[0m 5ms/step - loss: 85.0388 - val_loss: 9562.7285\n",
            "Epoch 40/200\n",
            "\u001b[1m233/233\u001b[0m \u001b[32m━━━━━━━━━━━━━━━━━━━━\u001b[0m\u001b[37m\u001b[0m \u001b[1m1s\u001b[0m 4ms/step - loss: 87.3261 - val_loss: 5456.2480\n",
            "Epoch 41/200\n",
            "\u001b[1m233/233\u001b[0m \u001b[32m━━━━━━━━━━━━━━━━━━━━\u001b[0m\u001b[37m\u001b[0m \u001b[1m1s\u001b[0m 4ms/step - loss: 90.0024 - val_loss: 2559.2810\n",
            "Epoch 42/200\n",
            "\u001b[1m233/233\u001b[0m \u001b[32m━━━━━━━━━━━━━━━━━━━━\u001b[0m\u001b[37m\u001b[0m \u001b[1m1s\u001b[0m 5ms/step - loss: 88.0107 - val_loss: 2014.8759\n",
            "Epoch 43/200\n",
            "\u001b[1m233/233\u001b[0m \u001b[32m━━━━━━━━━━━━━━━━━━━━\u001b[0m\u001b[37m\u001b[0m \u001b[1m1s\u001b[0m 4ms/step - loss: 86.8757 - val_loss: 4674.7651\n",
            "Epoch 44/200\n",
            "\u001b[1m233/233\u001b[0m \u001b[32m━━━━━━━━━━━━━━━━━━━━\u001b[0m\u001b[37m\u001b[0m \u001b[1m1s\u001b[0m 5ms/step - loss: 88.2531 - val_loss: 10558.0049\n",
            "Epoch 45/200\n",
            "\u001b[1m233/233\u001b[0m \u001b[32m━━━━━━━━━━━━━━━━━━━━\u001b[0m\u001b[37m\u001b[0m \u001b[1m1s\u001b[0m 4ms/step - loss: 84.1921 - val_loss: 9112.3047\n",
            "Epoch 46/200\n",
            "\u001b[1m233/233\u001b[0m \u001b[32m━━━━━━━━━━━━━━━━━━━━\u001b[0m\u001b[37m\u001b[0m \u001b[1m1s\u001b[0m 5ms/step - loss: 84.9863 - val_loss: 9349.5234\n",
            "Epoch 47/200\n",
            "\u001b[1m233/233\u001b[0m \u001b[32m━━━━━━━━━━━━━━━━━━━━\u001b[0m\u001b[37m\u001b[0m \u001b[1m1s\u001b[0m 4ms/step - loss: 84.7742 - val_loss: 10798.7314\n",
            "Epoch 48/200\n",
            "\u001b[1m233/233\u001b[0m \u001b[32m━━━━━━━━━━━━━━━━━━━━\u001b[0m\u001b[37m\u001b[0m \u001b[1m1s\u001b[0m 4ms/step - loss: 89.1959 - val_loss: 11718.4561\n",
            "Epoch 49/200\n",
            "\u001b[1m233/233\u001b[0m \u001b[32m━━━━━━━━━━━━━━━━━━━━\u001b[0m\u001b[37m\u001b[0m \u001b[1m1s\u001b[0m 4ms/step - loss: 86.8006 - val_loss: 9307.7021\n",
            "Epoch 50/200\n",
            "\u001b[1m233/233\u001b[0m \u001b[32m━━━━━━━━━━━━━━━━━━━━\u001b[0m\u001b[37m\u001b[0m \u001b[1m1s\u001b[0m 4ms/step - loss: 89.1235 - val_loss: 19398.3223\n",
            "Epoch 51/200\n",
            "\u001b[1m233/233\u001b[0m \u001b[32m━━━━━━━━━━━━━━━━━━━━\u001b[0m\u001b[37m\u001b[0m \u001b[1m1s\u001b[0m 4ms/step - loss: 89.6601 - val_loss: 14279.5518\n",
            "Epoch 52/200\n",
            "\u001b[1m233/233\u001b[0m \u001b[32m━━━━━━━━━━━━━━━━━━━━\u001b[0m\u001b[37m\u001b[0m \u001b[1m1s\u001b[0m 4ms/step - loss: 87.3039 - val_loss: 13755.9629\n"
          ]
        }
      ],
      "source": [
        "# Train the model on the training data, using the test data for validation\n",
        "history = model.fit(X_train_scaled, y_train, epochs=200, batch_size=26, validation_data=(X_test_scaled, y_test),callbacks=[early_stop], verbose=1)\n"
      ]
    },
    {
      "cell_type": "code",
      "execution_count": null,
      "metadata": {
        "colab": {
          "base_uri": "https://localhost:8080/"
        },
        "id": "OymPmP0vW5uM",
        "outputId": "b83f7809-62cf-46d6-eb0c-9bfcca403daa"
      },
      "outputs": [
        {
          "name": "stdout",
          "output_type": "stream",
          "text": [
            "Requirement already satisfied: matplotlib in c:\\users\\sheet\\desktop\\mlproject\\batterylifeprediction\\.venv\\lib\\site-packages (3.10.1)\n",
            "Requirement already satisfied: contourpy>=1.0.1 in c:\\users\\sheet\\desktop\\mlproject\\batterylifeprediction\\.venv\\lib\\site-packages (from matplotlib) (1.3.2)\n",
            "Requirement already satisfied: cycler>=0.10 in c:\\users\\sheet\\desktop\\mlproject\\batterylifeprediction\\.venv\\lib\\site-packages (from matplotlib) (0.12.1)\n",
            "Requirement already satisfied: fonttools>=4.22.0 in c:\\users\\sheet\\desktop\\mlproject\\batterylifeprediction\\.venv\\lib\\site-packages (from matplotlib) (4.57.0)\n",
            "Requirement already satisfied: kiwisolver>=1.3.1 in c:\\users\\sheet\\desktop\\mlproject\\batterylifeprediction\\.venv\\lib\\site-packages (from matplotlib) (1.4.8)\n",
            "Requirement already satisfied: numpy>=1.23 in c:\\users\\sheet\\desktop\\mlproject\\batterylifeprediction\\.venv\\lib\\site-packages (from matplotlib) (2.1.3)\n",
            "Requirement already satisfied: packaging>=20.0 in c:\\users\\sheet\\desktop\\mlproject\\batterylifeprediction\\.venv\\lib\\site-packages (from matplotlib) (24.2)\n",
            "Requirement already satisfied: pillow>=8 in c:\\users\\sheet\\desktop\\mlproject\\batterylifeprediction\\.venv\\lib\\site-packages (from matplotlib) (11.2.1)\n",
            "Requirement already satisfied: pyparsing>=2.3.1 in c:\\users\\sheet\\desktop\\mlproject\\batterylifeprediction\\.venv\\lib\\site-packages (from matplotlib) (3.2.3)\n",
            "Requirement already satisfied: python-dateutil>=2.7 in c:\\users\\sheet\\desktop\\mlproject\\batterylifeprediction\\.venv\\lib\\site-packages (from matplotlib) (2.9.0.post0)\n",
            "Requirement already satisfied: six>=1.5 in c:\\users\\sheet\\desktop\\mlproject\\batterylifeprediction\\.venv\\lib\\site-packages (from python-dateutil>=2.7->matplotlib) (1.17.0)\n",
            "Note: you may need to restart the kernel to use updated packages.\n"
          ]
        }
      ],
      "source": [
        "%pip install matplotlib"
      ]
    },
    {
      "cell_type": "code",
      "execution_count": null,
      "metadata": {
        "colab": {
          "base_uri": "https://localhost:8080/",
          "height": 607
        },
        "id": "ZRLvmxcBW5uM",
        "outputId": "17014f25-726f-497e-97f4-1148095a55af"
      },
      "outputs": [
        {
          "data": {
            "image/png": "[encoded data removed]",
            "text/plain": [
              "<Figure size 1400x600 with 2 Axes>"
            ]
          },
          "metadata": {},
          "output_type": "display_data"
        }
      ],
      "source": [
        "import matplotlib.pyplot as plt\n",
        "\n",
        "# Create two subplots for training and validation loss\n",
        "fig, axes = plt.subplots(1, 2, figsize=(14, 6))\n",
        "\n",
        "# Plot training loss on the first subplot\n",
        "axes[0].plot(history.history['loss'], label='Training Loss', color='blue')\n",
        "axes[0].set_xlabel('Epochs')\n",
        "axes[0].set_ylabel('Loss')\n",
        "axes[0].set_title('Training Loss')\n",
        "axes[0].legend()\n",
        "\n",
        "# Zoom in on the training loss plot (example: focusing on epochs within the history range)\n",
        "epochs = len(history.history['loss'])\n",
        "axes[0].set_xlim(0, epochs)  # Set the x-axis to cover all epochs\n",
        "axes[0].set_ylim(min(history.history['loss']), max(history.history['loss']))  # Set y-axis to cover full range of loss\n",
        "\n",
        "# Plot validation loss on the second subplot\n",
        "axes[1].plot(history.history['val_loss'], label='Validation Loss', color='orange')\n",
        "axes[1].set_xlabel('Epochs')\n",
        "axes[1].set_ylabel('Loss')\n",
        "axes[1].set_title('Validation Loss')\n",
        "axes[1].legend()\n",
        "\n",
        "# Optionally zoom in on validation loss (if you want)\n",
        "# axes[1].set_xlim(0, epochs)\n",
        "# axes[1].set_ylim(min(history.history['val_loss']), max(history.history['val_loss']))\n",
        "\n",
        "# Show the plots\n",
        "plt.tight_layout()\n",
        "plt.show()\n"
      ]
    },
    {
      "cell_type": "code",
      "execution_count": null,
      "metadata": {
        "colab": {
          "base_uri": "https://localhost:8080/"
        },
        "id": "GmhO3ozgXJTN",
        "outputId": "2cf4b7a1-58db-4e5a-ab39-9ad9bbb48ef0"
      },
      "outputs": [
        {
          "name": "stdout",
          "output_type": "stream",
          "text": [
            "Mean Squared Error (Linear Regression): 100693.01159161559\n",
            "Mean Absolute Error (Linear Regression): 15.146487364873243\n"
          ]
        }
      ],
      "source": [
        "from sklearn.linear_model import LinearRegression\n",
        "from sklearn.metrics import mean_squared_error, mean_absolute_error, mean_absolute_percentage_error\n",
        "\n",
        "# Initialize the Linear Regression model\n",
        "lr_model = LinearRegression()\n",
        "\n",
        "# Train the model\n",
        "lr_model.fit(X_train_scaled, y_train)\n",
        "\n",
        "# Predict on the test data\n",
        "y_pred_lr = lr_model.predict(X_test_scaled)\n",
        "\n",
        "# Calculate performance metrics\n",
        "mse_lr = mean_squared_error(y_test, y_pred_lr)\n",
        "mae_lr = mean_absolute_error(y_test, y_pred_lr)\n",
        "mape_lr = mean_absolute_percentage_error(y_test, y_pred_lr)\n",
        "\n",
        "print(f\"Mean Squared Error (Linear Regression): {mse_lr}\")\n",
        "print(f\"Mean Absolute Error (Linear Regression): {mae_lr}\")\n",
        "\n"
      ]
    },
    {
      "cell_type": "code",
      "execution_count": null,
      "metadata": {
        "colab": {
          "base_uri": "https://localhost:8080/"
        },
        "id": "oNfQE9hyW5uN",
        "outputId": "0fe6600b-083b-4b84-db22-3130abbd7b79"
      },
      "outputs": [
        {
          "name": "stdout",
          "output_type": "stream",
          "text": [
            "\u001b[1m48/48\u001b[0m \u001b[32m━━━━━━━━━━━━━━━━━━━━\u001b[0m\u001b[37m\u001b[0m \u001b[1m0s\u001b[0m 2ms/step - loss: 93.7274\n",
            "Mean Squared Error on test set: 85.97503662109375\n",
            "\u001b[1m48/48\u001b[0m \u001b[32m━━━━━━━━━━━━━━━━━━━━\u001b[0m\u001b[37m\u001b[0m \u001b[1m0s\u001b[0m 2ms/step\n",
            "MAE: 6.361164093017578\n"
          ]
        }
      ],
      "source": [
        "# Evaluate the model on the test data\n",
        "mse = model.evaluate(X_test_scaled, y_test)\n",
        "\n",
        "# Print the Mean Squared Error (MSE)\n",
        "print(f'Mean Squared Error on test set: {mse}')\n",
        "from sklearn.metrics import mean_absolute_error, r2_score\n",
        "y_pred = model.predict(X_test_scaled)\n",
        "\n",
        "mae = mean_absolute_error(y_test, y_pred)\n",
        "r2 = r2_score(y_test, y_pred)\n",
        "\n",
        "print(f\"MAE: {mae}\")\n",
        "\n",
        "\n"
      ]
    },
    {
      "cell_type": "code",
      "execution_count": null,
      "metadata": {
        "colab": {
          "base_uri": "https://localhost:8080/"
        },
        "id": "NkyRi3fTHb-A",
        "outputId": "84320c70-213f-4667-c050-ae47715a7d1e"
      },
      "outputs": [
        {
          "name": "stdout",
          "output_type": "stream",
          "text": [
            "XGBoost - MSE: 81.2894058227539\n",
            "XGBoost - MAE: 6.134415626525879\n"
          ]
        }
      ],
      "source": [
        "from sklearn.ensemble import RandomForestRegressor\n",
        "from sklearn.metrics import mean_squared_error, mean_absolute_error, r2_score, mean_absolute_percentage_error\n",
        "import xgboost as xgb\n",
        "\n",
        "# Initialize the models\n",
        "rf_model = RandomForestRegressor(n_estimators=100, random_state=42)\n",
        "xgb_model = xgb.XGBRegressor(objective='reg:squarederror', n_estimators=100, random_state=42)\n",
        "\n",
        "# Train the models\n",
        "rf_model.fit(X_train_scaled, y_train)\n",
        "xgb_model.fit(X_train_scaled, y_train)\n",
        "\n",
        "# Predict the test set results\n",
        "y_pred_rf = rf_model.predict(X_test_scaled)\n",
        "y_pred_xgb = xgb_model.predict(X_test_scaled)\n",
        "\n",
        "# Calculate evaluation metrics for Random Forest\n",
        "mse_rf = mean_squared_error(y_test, y_pred_rf)\n",
        "mae_rf = mean_absolute_error(y_test, y_pred_rf)\n",
        "r2_rf = r2_score(y_test, y_pred_rf)\n",
        "mape_rf = mean_absolute_percentage_error(y_test, y_pred_rf)\n",
        "\n",
        "\n",
        "\n",
        "\n",
        "# Calculate evaluation metrics for XGBoost\n",
        "mse_xgb = mean_squared_error(y_test, y_pred_xgb)\n",
        "mae_xgb = mean_absolute_error(y_test, y_pred_xgb)\n",
        "mape_xgb = mean_absolute_percentage_error(y_test, y_pred_xgb)\n",
        "\n",
        "# Print XGBoost results\n",
        "print(f\"XGBoost - MSE: {mse_xgb}\")\n",
        "print(f\"XGBoost - MAE: {mae_xgb}\")\n",
        "\n",
        "\n"
      ]
    },
    {
      "cell_type": "code",
      "execution_count": null,
      "metadata": {
        "colab": {
          "base_uri": "https://localhost:8080/"
        },
        "id": "Rw-kCqESMgVs",
        "outputId": "113af404-a3e9-43ab-f42a-fa461b67f655"
      },
      "outputs": [
        {
          "name": "stdout",
          "output_type": "stream",
          "text": [
            "Predicted Battery Life with XGBoost: 26.140304565429688\n"
          ]
        },
        {
          "name": "stderr",
          "output_type": "stream",
          "text": [
            "c:\\Users\\sheet\\Desktop\\MLProject\\batterylifeprediction\\.venv\\Lib\\site-packages\\sklearn\\utils\\validation.py:2739: UserWarning: X does not have valid feature names, but MinMaxScaler was fitted with feature names\n",
            "  warnings.warn(\n"
          ]
        }
      ],
      "source": [
        "import numpy as np\n",
        "\n",
        "# Function to make predictions using either Random Forest or XGBoost\n",
        "def predict_battery_life(model, label_encoder, scaler, type_discharge, Capacity, Re, Rct):\n",
        "    # Encode the categorical feature\n",
        "    type_discharge_encoded = label_encoder.transform([type_discharge])[0]\n",
        "\n",
        "    # Prepare the input feature vector\n",
        "    X_input = np.array([[type_discharge_encoded, Capacity, Re, Rct]])\n",
        "\n",
        "    # Scale the input features using the same scaler\n",
        "    X_input_scaled = scaler.transform(X_input)\n",
        "\n",
        "    # Predict the battery life (ambient_temperature) using the provided model\n",
        "    predicted_battery_life = model.predict(X_input_scaled)\n",
        "\n",
        "    return predicted_battery_life[0]\n",
        "\n",
        "# Example input for prediction\n",
        "type_discharge = 'discharge'  # Example input for type\n",
        "Capacity = 1.674305           # Example numeric value\n",
        "Re = -4.976500e+11            # Example numeric value\n",
        "Rct = 1.055903e+12            # Example numeric value\n",
        "\n",
        "\n",
        "# Example: Predicting with XGBoost model\n",
        "predicted_battery_life_xgb = predict_battery_life(xgb_model, label_encoder, scaler, type_discharge, Capacity, Re, Rct)\n",
        "print(f\"Predicted Battery Life with XGBoost: {predicted_battery_life_xgb}\")\n"
      ]
    },
    {
      "cell_type": "code",
      "execution_count": null,
      "metadata": {
        "id": "rAjxyH-rW5uN"
      },
      "outputs": [],
      "source": [
        "import numpy as np\n",
        "\n",
        "def predict_battery_life(type_discharge, Capacity, Re, Rct, label_encoder, scaler, model):\n",
        "\n",
        "    # Encode the categorical feature\n",
        "    type_discharge_encoded = label_encoder.transform([type_discharge])[0]\n",
        "\n",
        "    # Prepare the input feature vector\n",
        "    X_input = np.array([[type_discharge_encoded,Capacity, Re, Rct]])\n",
        "\n",
        "    # Scale the input features using the same scaler\n",
        "    X_input_scaled = scaler.transform(X_input)\n",
        "\n",
        "    # Predict the battery life (ambient_temperature)\n",
        "\n",
        "    predicted_battery_life = np.clip(model.predict(X_input_scaled), a_min=0, a_max=None)\n",
        "    return predicted_battery_life[0]\n"
      ]
    },
    {
      "cell_type": "code",
      "execution_count": null,
      "metadata": {
        "colab": {
          "base_uri": "https://localhost:8080/"
        },
        "id": "723-XPrcW5uN",
        "outputId": "3d19725c-3ed8-4962-e990-fefe0061787d"
      },
      "outputs": [
        {
          "name": "stderr",
          "output_type": "stream",
          "text": [
            "c:\\Users\\sheet\\Desktop\\MLProject\\batterylifeprediction\\.venv\\Lib\\site-packages\\sklearn\\utils\\validation.py:2739: UserWarning: X does not have valid feature names, but MinMaxScaler was fitted with feature names\n",
            "  warnings.warn(\n"
          ]
        },
        {
          "name": "stdout",
          "output_type": "stream",
          "text": [
            "\u001b[1m1/1\u001b[0m \u001b[32m━━━━━━━━━━━━━━━━━━━━\u001b[0m\u001b[37m\u001b[0m \u001b[1m0s\u001b[0m 254ms/step\n",
            "Predicted Battery Life: [28.418615]\n"
          ]
        }
      ],
      "source": [
        "# Example usage of the function\n",
        "type_discharge = 'discharge'  # Example input for type\n",
        "Capacity = 1.674305           # Example numeric value\n",
        "Re = -4.976500e+11            # Example numeric value\n",
        "Rct = 1.055903e+12            # Example numeric value\n",
        "\n",
        "# Call the prediction function\n",
        "predicted_battery_life = predict_battery_life(type_discharge, Capacity, Re, Rct, label_encoder, scaler, model)\n",
        "\n",
        "print(f\"Predicted Battery Life: {predicted_battery_life}\")"
      ]
    },
    {
      "cell_type": "code",
      "execution_count": null,
      "metadata": {
        "colab": {
          "base_uri": "https://localhost:8080/"
        },
        "id": "o81h2JLKW5uN",
        "outputId": "6728af1c-6066-4cbc-d008-f5313854d312"
      },
      "outputs": [
        {
          "name": "stdout",
          "output_type": "stream",
          "text": [
            "\u001b[1m1/1\u001b[0m \u001b[32m━━━━━━━━━━━━━━━━━━━━\u001b[0m\u001b[37m\u001b[0m \u001b[1m0s\u001b[0m 69ms/step\n",
            "Predicted Battery Life: [18.927336]\n"
          ]
        },
        {
          "name": "stderr",
          "output_type": "stream",
          "text": [
            "c:\\Users\\sheet\\Desktop\\MLProject\\batterylifeprediction\\.venv\\Lib\\site-packages\\sklearn\\utils\\validation.py:2739: UserWarning: X does not have valid feature names, but MinMaxScaler was fitted with feature names\n",
            "  warnings.warn(\n"
          ]
        }
      ],
      "source": [
        "type_discharge = 'discharge'  # Example discharge type\n",
        "Capacity = 2.0                 # Battery capacity in Ah (e.g., 2,000 mAh)\n",
        "Re = 0.05                     # Electrolyte resistance in Ohms\n",
        "Rct = 50                      # Charge transfer resistance in Ohms\n",
        "\n",
        "predicted_battery_life = predict_battery_life(\n",
        "    type_discharge, Capacity, Re, Rct, label_encoder, scaler, model\n",
        ")\n",
        "\n",
        "\n",
        "print(f\"Predicted Battery Life: {predicted_battery_life}\")\n"
      ]
    },
    {
      "cell_type": "code",
      "execution_count": null,
      "metadata": {
        "id": "OUQw6VqTSoHO"
      },
      "outputs": [],
      "source": [
        "# import matplotlib.pyplot as plt\n",
        "\n",
        "# # Function to plot comparison of model performance\n",
        "# def plot_model_comparison(y_test, y_pred_rf, y_pred_xgb):\n",
        "#     # 1. Plotting Predicted vs Actual Values for RandomForest and XGBoost\n",
        "#     plt.figure(figsize=(14, 7))\n",
        "\n",
        "#     # Plotting RandomForest predictions\n",
        "#     plt.subplot(1, 2, 1)\n",
        "#     plt.scatter(y_test, y_pred_rf, color='blue', label='RandomForest Predictions')\n",
        "#     plt.plot([min(y_test), max(y_test)], [min(y_test), max(y_test)], color='red', linestyle='--', label='Perfect Prediction')\n",
        "#     plt.title('RandomForest: Predicted vs Actual')\n",
        "#     plt.xlabel('Actual Values')\n",
        "#     plt.ylabel('Predicted Values')\n",
        "#     plt.legend()\n",
        "\n",
        "#     # Plotting XGBoost predictions\n",
        "#     plt.subplot(1, 2, 2)\n",
        "#     plt.scatter(y_test, y_pred_xgb, color='green', label='XGBoost Predictions')\n",
        "#     plt.plot([min(y_test), max(y_test)], [min(y_test), max(y_test)], color='red', linestyle='--', label='Perfect Prediction')\n",
        "#     plt.title('XGBoost: Predicted vs Actual')\n",
        "#     plt.xlabel('Actual Values')\n",
        "#     plt.ylabel('Predicted Values')\n",
        "#     plt.legend()\n",
        "\n",
        "#     plt.tight_layout()\n",
        "#     plt.show()\n",
        "\n",
        "# # Example usage for comparing models\n",
        "# # Assuming y_test (true values), y_pred_rf (RandomForest predictions), and y_pred_xgb (XGBoost predictions) are available\n",
        "# y_pred_rf = rf_model.predict(X_test_scaled)\n",
        "# y_pred_xgb = xgb_model.predict(X_test_scaled)\n",
        "\n",
        "# # Plot comparison without metrics\n",
        "# plot_model_comparison(y_test, y_pred_rf, y_pred_xgb)\n"
      ]
    },
    {
      "cell_type": "code",
      "execution_count": null,
      "metadata": {
        "id": "-s4gTAdHW5uN"
      },
      "outputs": [],
      "source": [
        "import pickle\n",
        "\n",
        "# Save the model, scaler, and label encoder to disk\n",
        "with open('battery_life_model.pkl', 'wb') as model_file:\n",
        "    pickle.dump(model, model_file)\n",
        "\n",
        "with open('scaler.pkl', 'wb') as scaler_file:\n",
        "    pickle.dump(scaler, scaler_file)\n",
        "\n",
        "with open('label_encoder.pkl', 'wb') as le_file:\n",
        "    pickle.dump(label_encoder, le_file)"
      ]
    },
    {
      "cell_type": "code",
      "execution_count": null,
      "metadata": {
        "colab": {
          "base_uri": "https://localhost:8080/"
        },
        "id": "qP3tQQrXW5uO",
        "outputId": "19afd446-c19a-4018-f82e-300e419e43a6"
      },
      "outputs": [
        {
          "name": "stderr",
          "output_type": "stream",
          "text": [
            "WARNING:absl:You are saving your model as an HDF5 file via `model.save()` or `keras.saving.save_model(model)`. This file format is considered legacy. We recommend using instead the native Keras format, e.g. `model.save('my_model.keras')` or `keras.saving.save_model(model, 'my_model.keras')`. \n"
          ]
        }
      ],
      "source": [
        "model.save(\"battery_life_model.h5\")"
      ]
    }
  ],
  "metadata": {
    "colab": {
      "provenance": []
    },
    "kernelspec": {
      "display_name": "project_env",
      "language": "python",
      "name": "python3"
    },
    "language_info": {
      "codemirror_mode": {
        "name": "ipython",
        "version": 3
      },
      "file_extension": ".py",
      "mimetype": "text/x-python",
      "name": "python",
      "nbconvert_exporter": "python",
      "pygments_lexer": "ipython3",
      "version": "3.12.10"
    }
  },
  "nbformat": 4,
  "nbformat_minor": 0
}
